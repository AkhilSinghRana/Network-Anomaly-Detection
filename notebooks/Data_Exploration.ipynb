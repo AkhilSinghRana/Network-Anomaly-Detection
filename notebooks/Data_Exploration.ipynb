{
 "cells": [
  {
   "cell_type": "code",
   "execution_count": 2,
   "metadata": {},
   "outputs": [],
   "source": [
    "import pandas as pd\n",
    "import numpy as np\n",
    "import matplotlib.pyplot as plt\n"
   ]
  },
  {
   "cell_type": "code",
   "execution_count": 18,
   "metadata": {},
   "outputs": [
    {
     "name": "stdout",
     "output_type": "stream",
     "text": [
      "Number of rows, Columns/features: (3079892, 21)\n"
     ]
    }
   ],
   "source": [
    "# Read the CSV data into the pandas dataframe\n",
    "file = '../data/data.csv'\n",
    "data = pd.read_csv(file)\n",
    "\n",
    "print(\"Number of rows, Columns/features:\", data.shape)"
   ]
  },
  {
   "cell_type": "code",
   "execution_count": 28,
   "metadata": {},
   "outputs": [],
   "source": [
    "# Just to make sure that all columns are visible even when the display is smaller, e.g while using notebook!\n",
    "pd.set_option(\"display.max.columns\", None)\n",
    "\n",
    "#Set floating point precision to 2 decimal ppoints\n",
    "pd.set_option(\"display.precision\", 2)"
   ]
  },
  {
   "cell_type": "code",
   "execution_count": 22,
   "metadata": {},
   "outputs": [
    {
     "name": "stdout",
     "output_type": "stream",
     "text": [
      "<class 'pandas.core.frame.DataFrame'>\n",
      "RangeIndex: 3079892 entries, 0 to 3079891\n",
      "Data columns (total 21 columns):\n",
      " #   Column        Dtype  \n",
      "---  ------        -----  \n",
      " 0   uid           object \n",
      " 1   sourceMac     object \n",
      " 2   sourceIp      object \n",
      " 3   destIp        object \n",
      " 4   destMac       object \n",
      " 5   sourcePort    int64  \n",
      " 6   destPort      int64  \n",
      " 7   host          object \n",
      " 8   kIn           float64\n",
      " 9   kOut          float64\n",
      " 10  inPacketsNo   int64  \n",
      " 11  outPacketsNo  int64  \n",
      " 12  protocol      int64  \n",
      " 13  urgent        int64  \n",
      " 14  ack           int64  \n",
      " 15  push          int64  \n",
      " 16  reset         int64  \n",
      " 17  syn           int64  \n",
      " 18  fin           int64  \n",
      " 19  timestamp     object \n",
      " 20  label         object \n",
      "dtypes: float64(2), int64(11), object(8)\n",
      "memory usage: 493.5+ MB\n"
     ]
    }
   ],
   "source": [
    "data.info()"
   ]
  },
  {
   "cell_type": "code",
   "execution_count": 12,
   "metadata": {},
   "outputs": [
    {
     "data": {
      "text/plain": [
       "count    3.079892e+06\n",
       "mean     1.586192e-02\n",
       "std      2.486541e-01\n",
       "min      0.000000e+00\n",
       "25%      0.000000e+00\n",
       "50%      0.000000e+00\n",
       "75%      0.000000e+00\n",
       "max      6.600000e+01\n",
       "Name: inPacketsNo, dtype: float64"
      ]
     },
     "execution_count": 12,
     "metadata": {},
     "output_type": "execute_result"
    }
   ],
   "source": [
    "data[\"inPacketsNo\"].describe()"
   ]
  },
  {
   "cell_type": "code",
   "execution_count": 13,
   "metadata": {},
   "outputs": [
    {
     "data": {
      "text/plain": [
       "count    3.079892e+06\n",
       "mean     3.765896e+00\n",
       "std      4.807555e+02\n",
       "min      0.000000e+00\n",
       "25%      1.000000e+00\n",
       "50%      1.000000e+00\n",
       "75%      1.000000e+00\n",
       "max      1.667230e+05\n",
       "Name: outPacketsNo, dtype: float64"
      ]
     },
     "execution_count": 13,
     "metadata": {},
     "output_type": "execute_result"
    }
   ],
   "source": [
    "data[\"outPacketsNo\"].describe()"
   ]
  },
  {
   "cell_type": "code",
   "execution_count": 6,
   "metadata": {},
   "outputs": [
    {
     "data": {
      "text/plain": [
       "uid             False\n",
       "sourceMac       False\n",
       "sourceIp        False\n",
       "destIp          False\n",
       "destMac         False\n",
       "sourcePort      False\n",
       "destPort        False\n",
       "host             True\n",
       "kIn             False\n",
       "kOut            False\n",
       "inPacketsNo     False\n",
       "outPacketsNo    False\n",
       "protocol        False\n",
       "urgent          False\n",
       "ack             False\n",
       "push            False\n",
       "reset           False\n",
       "syn             False\n",
       "fin             False\n",
       "timestamp       False\n",
       "label           False\n",
       "dtype: bool"
      ]
     },
     "execution_count": 6,
     "metadata": {},
     "output_type": "execute_result"
    }
   ],
   "source": [
    "data.isna().any()"
   ]
  },
  {
   "cell_type": "code",
   "execution_count": 20,
   "metadata": {},
   "outputs": [
    {
     "data": {
      "text/html": [
       "<div>\n",
       "<style scoped>\n",
       "    .dataframe tbody tr th:only-of-type {\n",
       "        vertical-align: middle;\n",
       "    }\n",
       "\n",
       "    .dataframe tbody tr th {\n",
       "        vertical-align: top;\n",
       "    }\n",
       "\n",
       "    .dataframe thead th {\n",
       "        text-align: right;\n",
       "    }\n",
       "</style>\n",
       "<table border=\"1\" class=\"dataframe\">\n",
       "  <thead>\n",
       "    <tr style=\"text-align: right;\">\n",
       "      <th></th>\n",
       "      <th>uid</th>\n",
       "      <th>sourceMac</th>\n",
       "      <th>sourceIp</th>\n",
       "      <th>destIp</th>\n",
       "      <th>destMac</th>\n",
       "      <th>sourcePort</th>\n",
       "      <th>destPort</th>\n",
       "      <th>host</th>\n",
       "      <th>kIn</th>\n",
       "      <th>kOut</th>\n",
       "      <th>inPacketsNo</th>\n",
       "      <th>outPacketsNo</th>\n",
       "      <th>protocol</th>\n",
       "      <th>urgent</th>\n",
       "      <th>ack</th>\n",
       "      <th>push</th>\n",
       "      <th>reset</th>\n",
       "      <th>syn</th>\n",
       "      <th>fin</th>\n",
       "      <th>timestamp</th>\n",
       "      <th>label</th>\n",
       "    </tr>\n",
       "  </thead>\n",
       "  <tbody>\n",
       "    <tr>\n",
       "      <th>0</th>\n",
       "      <td>0ade1931-b0ac-4a5b-ba47-ba6281918861</td>\n",
       "      <td>b8-27-eb-57-1d-79</td>\n",
       "      <td>192.168.1.239</td>\n",
       "      <td>192.168.1.189</td>\n",
       "      <td>ec-08-6b-17-5d-ff</td>\n",
       "      <td>19357</td>\n",
       "      <td>8000</td>\n",
       "      <td>RELU-DESKTOP.lan</td>\n",
       "      <td>0.0</td>\n",
       "      <td>1.015625</td>\n",
       "      <td>0</td>\n",
       "      <td>2</td>\n",
       "      <td>17</td>\n",
       "      <td>0</td>\n",
       "      <td>0</td>\n",
       "      <td>0</td>\n",
       "      <td>0</td>\n",
       "      <td>0</td>\n",
       "      <td>0</td>\n",
       "      <td>2017-06-15 09:43:44</td>\n",
       "      <td>UDP.flood</td>\n",
       "    </tr>\n",
       "    <tr>\n",
       "      <th>1</th>\n",
       "      <td>0ade1931-b0ac-4a5b-ba47-ba6281918861</td>\n",
       "      <td>b8-27-eb-57-1d-79</td>\n",
       "      <td>192.168.1.239</td>\n",
       "      <td>192.168.1.189</td>\n",
       "      <td>ec-08-6b-17-5d-ff</td>\n",
       "      <td>1939</td>\n",
       "      <td>8000</td>\n",
       "      <td>RELU-DESKTOP.lan</td>\n",
       "      <td>0.0</td>\n",
       "      <td>1.015625</td>\n",
       "      <td>0</td>\n",
       "      <td>2</td>\n",
       "      <td>17</td>\n",
       "      <td>0</td>\n",
       "      <td>0</td>\n",
       "      <td>0</td>\n",
       "      <td>0</td>\n",
       "      <td>0</td>\n",
       "      <td>0</td>\n",
       "      <td>2017-06-15 09:43:44</td>\n",
       "      <td>UDP.flood</td>\n",
       "    </tr>\n",
       "    <tr>\n",
       "      <th>2</th>\n",
       "      <td>0ade1931-b0ac-4a5b-ba47-ba6281918861</td>\n",
       "      <td>b8-27-eb-57-1d-79</td>\n",
       "      <td>192.168.1.239</td>\n",
       "      <td>192.168.1.189</td>\n",
       "      <td>ec-08-6b-17-5d-ff</td>\n",
       "      <td>19668</td>\n",
       "      <td>8000</td>\n",
       "      <td>RELU-DESKTOP.lan</td>\n",
       "      <td>0.0</td>\n",
       "      <td>0.507813</td>\n",
       "      <td>0</td>\n",
       "      <td>1</td>\n",
       "      <td>17</td>\n",
       "      <td>0</td>\n",
       "      <td>0</td>\n",
       "      <td>0</td>\n",
       "      <td>0</td>\n",
       "      <td>0</td>\n",
       "      <td>0</td>\n",
       "      <td>2017-06-15 09:43:44</td>\n",
       "      <td>UDP.flood</td>\n",
       "    </tr>\n",
       "    <tr>\n",
       "      <th>3</th>\n",
       "      <td>0ade1931-b0ac-4a5b-ba47-ba6281918861</td>\n",
       "      <td>b8-27-eb-57-1d-79</td>\n",
       "      <td>192.168.1.239</td>\n",
       "      <td>192.168.1.189</td>\n",
       "      <td>ec-08-6b-17-5d-ff</td>\n",
       "      <td>19807</td>\n",
       "      <td>8000</td>\n",
       "      <td>RELU-DESKTOP.lan</td>\n",
       "      <td>0.0</td>\n",
       "      <td>0.507813</td>\n",
       "      <td>0</td>\n",
       "      <td>1</td>\n",
       "      <td>17</td>\n",
       "      <td>0</td>\n",
       "      <td>0</td>\n",
       "      <td>0</td>\n",
       "      <td>0</td>\n",
       "      <td>0</td>\n",
       "      <td>0</td>\n",
       "      <td>2017-06-15 09:43:44</td>\n",
       "      <td>UDP.flood</td>\n",
       "    </tr>\n",
       "    <tr>\n",
       "      <th>4</th>\n",
       "      <td>0ade1931-b0ac-4a5b-ba47-ba6281918861</td>\n",
       "      <td>b8-27-eb-57-1d-79</td>\n",
       "      <td>192.168.1.239</td>\n",
       "      <td>192.168.1.189</td>\n",
       "      <td>ec-08-6b-17-5d-ff</td>\n",
       "      <td>19851</td>\n",
       "      <td>8000</td>\n",
       "      <td>RELU-DESKTOP.lan</td>\n",
       "      <td>0.0</td>\n",
       "      <td>0.507813</td>\n",
       "      <td>0</td>\n",
       "      <td>1</td>\n",
       "      <td>17</td>\n",
       "      <td>0</td>\n",
       "      <td>0</td>\n",
       "      <td>0</td>\n",
       "      <td>0</td>\n",
       "      <td>0</td>\n",
       "      <td>0</td>\n",
       "      <td>2017-06-15 09:43:44</td>\n",
       "      <td>UDP.flood</td>\n",
       "    </tr>\n",
       "  </tbody>\n",
       "</table>\n",
       "</div>"
      ],
      "text/plain": [
       "                                    uid          sourceMac       sourceIp  \\\n",
       "0  0ade1931-b0ac-4a5b-ba47-ba6281918861  b8-27-eb-57-1d-79  192.168.1.239   \n",
       "1  0ade1931-b0ac-4a5b-ba47-ba6281918861  b8-27-eb-57-1d-79  192.168.1.239   \n",
       "2  0ade1931-b0ac-4a5b-ba47-ba6281918861  b8-27-eb-57-1d-79  192.168.1.239   \n",
       "3  0ade1931-b0ac-4a5b-ba47-ba6281918861  b8-27-eb-57-1d-79  192.168.1.239   \n",
       "4  0ade1931-b0ac-4a5b-ba47-ba6281918861  b8-27-eb-57-1d-79  192.168.1.239   \n",
       "\n",
       "          destIp            destMac  sourcePort  destPort              host  \\\n",
       "0  192.168.1.189  ec-08-6b-17-5d-ff       19357      8000  RELU-DESKTOP.lan   \n",
       "1  192.168.1.189  ec-08-6b-17-5d-ff        1939      8000  RELU-DESKTOP.lan   \n",
       "2  192.168.1.189  ec-08-6b-17-5d-ff       19668      8000  RELU-DESKTOP.lan   \n",
       "3  192.168.1.189  ec-08-6b-17-5d-ff       19807      8000  RELU-DESKTOP.lan   \n",
       "4  192.168.1.189  ec-08-6b-17-5d-ff       19851      8000  RELU-DESKTOP.lan   \n",
       "\n",
       "   kIn      kOut  inPacketsNo  outPacketsNo  protocol  urgent  ack  push  \\\n",
       "0  0.0  1.015625            0             2        17       0    0     0   \n",
       "1  0.0  1.015625            0             2        17       0    0     0   \n",
       "2  0.0  0.507813            0             1        17       0    0     0   \n",
       "3  0.0  0.507813            0             1        17       0    0     0   \n",
       "4  0.0  0.507813            0             1        17       0    0     0   \n",
       "\n",
       "   reset  syn  fin            timestamp      label  \n",
       "0      0    0    0  2017-06-15 09:43:44  UDP.flood  \n",
       "1      0    0    0  2017-06-15 09:43:44  UDP.flood  \n",
       "2      0    0    0  2017-06-15 09:43:44  UDP.flood  \n",
       "3      0    0    0  2017-06-15 09:43:44  UDP.flood  \n",
       "4      0    0    0  2017-06-15 09:43:44  UDP.flood  "
      ]
     },
     "execution_count": 20,
     "metadata": {},
     "output_type": "execute_result"
    }
   ],
   "source": [
    "data.head()"
   ]
  },
  {
   "cell_type": "code",
   "execution_count": 21,
   "metadata": {},
   "outputs": [
    {
     "data": {
      "text/html": [
       "<div>\n",
       "<style scoped>\n",
       "    .dataframe tbody tr th:only-of-type {\n",
       "        vertical-align: middle;\n",
       "    }\n",
       "\n",
       "    .dataframe tbody tr th {\n",
       "        vertical-align: top;\n",
       "    }\n",
       "\n",
       "    .dataframe thead th {\n",
       "        text-align: right;\n",
       "    }\n",
       "</style>\n",
       "<table border=\"1\" class=\"dataframe\">\n",
       "  <thead>\n",
       "    <tr style=\"text-align: right;\">\n",
       "      <th></th>\n",
       "      <th>uid</th>\n",
       "      <th>sourceMac</th>\n",
       "      <th>sourceIp</th>\n",
       "      <th>destIp</th>\n",
       "      <th>destMac</th>\n",
       "      <th>sourcePort</th>\n",
       "      <th>destPort</th>\n",
       "      <th>host</th>\n",
       "      <th>kIn</th>\n",
       "      <th>kOut</th>\n",
       "      <th>inPacketsNo</th>\n",
       "      <th>outPacketsNo</th>\n",
       "      <th>protocol</th>\n",
       "      <th>urgent</th>\n",
       "      <th>ack</th>\n",
       "      <th>push</th>\n",
       "      <th>reset</th>\n",
       "      <th>syn</th>\n",
       "      <th>fin</th>\n",
       "      <th>timestamp</th>\n",
       "      <th>label</th>\n",
       "    </tr>\n",
       "  </thead>\n",
       "  <tbody>\n",
       "    <tr>\n",
       "      <th>3079887</th>\n",
       "      <td>0ade1931-b0ac-4a5b-ba47-ba6281918861</td>\n",
       "      <td>b8-27-eb-57-1d-79</td>\n",
       "      <td>192.168.1.239</td>\n",
       "      <td>192.168.1.255</td>\n",
       "      <td>ff-ff-ff-ff-ff-ff</td>\n",
       "      <td>39481</td>\n",
       "      <td>32412</td>\n",
       "      <td>NaN</td>\n",
       "      <td>0.0</td>\n",
       "      <td>0.113281</td>\n",
       "      <td>0</td>\n",
       "      <td>4</td>\n",
       "      <td>17</td>\n",
       "      <td>0</td>\n",
       "      <td>0</td>\n",
       "      <td>0</td>\n",
       "      <td>0</td>\n",
       "      <td>0</td>\n",
       "      <td>0</td>\n",
       "      <td>2017-06-15 15:58:33</td>\n",
       "      <td>normal</td>\n",
       "    </tr>\n",
       "    <tr>\n",
       "      <th>3079888</th>\n",
       "      <td>0ade1931-b0ac-4a5b-ba47-ba6281918861</td>\n",
       "      <td>b8-27-eb-57-1d-79</td>\n",
       "      <td>192.168.1.239</td>\n",
       "      <td>192.168.1.255</td>\n",
       "      <td>ff-ff-ff-ff-ff-ff</td>\n",
       "      <td>35698</td>\n",
       "      <td>32414</td>\n",
       "      <td>NaN</td>\n",
       "      <td>0.0</td>\n",
       "      <td>0.113281</td>\n",
       "      <td>0</td>\n",
       "      <td>4</td>\n",
       "      <td>17</td>\n",
       "      <td>0</td>\n",
       "      <td>0</td>\n",
       "      <td>0</td>\n",
       "      <td>0</td>\n",
       "      <td>0</td>\n",
       "      <td>0</td>\n",
       "      <td>2017-06-15 15:58:43</td>\n",
       "      <td>normal</td>\n",
       "    </tr>\n",
       "    <tr>\n",
       "      <th>3079889</th>\n",
       "      <td>0ade1931-b0ac-4a5b-ba47-ba6281918861</td>\n",
       "      <td>b8-27-eb-57-1d-79</td>\n",
       "      <td>192.168.1.239</td>\n",
       "      <td>192.168.1.255</td>\n",
       "      <td>ff-ff-ff-ff-ff-ff</td>\n",
       "      <td>35698</td>\n",
       "      <td>32414</td>\n",
       "      <td>NaN</td>\n",
       "      <td>0.0</td>\n",
       "      <td>0.113281</td>\n",
       "      <td>0</td>\n",
       "      <td>4</td>\n",
       "      <td>17</td>\n",
       "      <td>0</td>\n",
       "      <td>0</td>\n",
       "      <td>0</td>\n",
       "      <td>0</td>\n",
       "      <td>0</td>\n",
       "      <td>0</td>\n",
       "      <td>2017-06-15 15:59:03</td>\n",
       "      <td>normal</td>\n",
       "    </tr>\n",
       "    <tr>\n",
       "      <th>3079890</th>\n",
       "      <td>0ade1931-b0ac-4a5b-ba47-ba6281918861</td>\n",
       "      <td>b8-27-eb-57-1d-79</td>\n",
       "      <td>192.168.1.239</td>\n",
       "      <td>192.168.1.255</td>\n",
       "      <td>ff-ff-ff-ff-ff-ff</td>\n",
       "      <td>35698</td>\n",
       "      <td>32414</td>\n",
       "      <td>NaN</td>\n",
       "      <td>0.0</td>\n",
       "      <td>0.113281</td>\n",
       "      <td>0</td>\n",
       "      <td>4</td>\n",
       "      <td>17</td>\n",
       "      <td>0</td>\n",
       "      <td>0</td>\n",
       "      <td>0</td>\n",
       "      <td>0</td>\n",
       "      <td>0</td>\n",
       "      <td>0</td>\n",
       "      <td>2017-06-15 15:59:23</td>\n",
       "      <td>normal</td>\n",
       "    </tr>\n",
       "    <tr>\n",
       "      <th>3079891</th>\n",
       "      <td>0ade1931-b0ac-4a5b-ba47-ba6281918861</td>\n",
       "      <td>b8-27-eb-57-1d-79</td>\n",
       "      <td>192.168.1.239</td>\n",
       "      <td>192.168.1.255</td>\n",
       "      <td>ff-ff-ff-ff-ff-ff</td>\n",
       "      <td>35698</td>\n",
       "      <td>32414</td>\n",
       "      <td>NaN</td>\n",
       "      <td>0.0</td>\n",
       "      <td>0.113281</td>\n",
       "      <td>0</td>\n",
       "      <td>4</td>\n",
       "      <td>17</td>\n",
       "      <td>0</td>\n",
       "      <td>0</td>\n",
       "      <td>0</td>\n",
       "      <td>0</td>\n",
       "      <td>0</td>\n",
       "      <td>0</td>\n",
       "      <td>2017-06-15 15:59:53</td>\n",
       "      <td>normal</td>\n",
       "    </tr>\n",
       "  </tbody>\n",
       "</table>\n",
       "</div>"
      ],
      "text/plain": [
       "                                          uid          sourceMac  \\\n",
       "3079887  0ade1931-b0ac-4a5b-ba47-ba6281918861  b8-27-eb-57-1d-79   \n",
       "3079888  0ade1931-b0ac-4a5b-ba47-ba6281918861  b8-27-eb-57-1d-79   \n",
       "3079889  0ade1931-b0ac-4a5b-ba47-ba6281918861  b8-27-eb-57-1d-79   \n",
       "3079890  0ade1931-b0ac-4a5b-ba47-ba6281918861  b8-27-eb-57-1d-79   \n",
       "3079891  0ade1931-b0ac-4a5b-ba47-ba6281918861  b8-27-eb-57-1d-79   \n",
       "\n",
       "              sourceIp         destIp            destMac  sourcePort  \\\n",
       "3079887  192.168.1.239  192.168.1.255  ff-ff-ff-ff-ff-ff       39481   \n",
       "3079888  192.168.1.239  192.168.1.255  ff-ff-ff-ff-ff-ff       35698   \n",
       "3079889  192.168.1.239  192.168.1.255  ff-ff-ff-ff-ff-ff       35698   \n",
       "3079890  192.168.1.239  192.168.1.255  ff-ff-ff-ff-ff-ff       35698   \n",
       "3079891  192.168.1.239  192.168.1.255  ff-ff-ff-ff-ff-ff       35698   \n",
       "\n",
       "         destPort host  kIn      kOut  inPacketsNo  outPacketsNo  protocol  \\\n",
       "3079887     32412  NaN  0.0  0.113281            0             4        17   \n",
       "3079888     32414  NaN  0.0  0.113281            0             4        17   \n",
       "3079889     32414  NaN  0.0  0.113281            0             4        17   \n",
       "3079890     32414  NaN  0.0  0.113281            0             4        17   \n",
       "3079891     32414  NaN  0.0  0.113281            0             4        17   \n",
       "\n",
       "         urgent  ack  push  reset  syn  fin            timestamp   label  \n",
       "3079887       0    0     0      0    0    0  2017-06-15 15:58:33  normal  \n",
       "3079888       0    0     0      0    0    0  2017-06-15 15:58:43  normal  \n",
       "3079889       0    0     0      0    0    0  2017-06-15 15:59:03  normal  \n",
       "3079890       0    0     0      0    0    0  2017-06-15 15:59:23  normal  \n",
       "3079891       0    0     0      0    0    0  2017-06-15 15:59:53  normal  "
      ]
     },
     "execution_count": 21,
     "metadata": {},
     "output_type": "execute_result"
    }
   ],
   "source": [
    "data.tail()"
   ]
  },
  {
   "cell_type": "code",
   "execution_count": 36,
   "metadata": {},
   "outputs": [
    {
     "data": {
      "text/plain": [
       "UDP.flood         1979467\n",
       "TCP.ACK.flood      972532\n",
       "normal              91386\n",
       "TCP.HTTP.flood      36373\n",
       "TCP.SYN.flood          62\n",
       "GRE.IP                 56\n",
       "UDP.plain              16\n",
       "Name: label, dtype: int64"
      ]
     },
     "execution_count": 36,
     "metadata": {},
     "output_type": "execute_result"
    }
   ],
   "source": [
    "data[\"label\"].value_counts()"
   ]
  },
  {
   "cell_type": "code",
   "execution_count": 39,
   "metadata": {},
   "outputs": [
    {
     "data": {
      "image/png": "[encoded data removed]",
      "text/plain": [
       "<Figure size 432x288 with 1 Axes>"
      ]
     },
     "metadata": {
      "needs_background": "light"
     },
     "output_type": "display_data"
    }
   ],
   "source": [
    "LABELS = data[\"label\"].unique() # Get Unique Values of label column\n",
    "\n",
    "count_classes = data[\"label\"].value_counts() #Counts the number of sample for each label\n",
    "\n",
    "# below code plots the bar chart for above information\n",
    "count_classes.plot(kind = 'bar', rot=0)\n",
    "plt.title(\"DDoS Class Distribution\")\n",
    "plt.xticks(range(len(LABELS)), LABELS)\n",
    "plt.xlabel(\"Class\")\n",
    "plt.ylabel(\"Frequency\");"
   ]
  },
  {
   "cell_type": "code",
   "execution_count": null,
   "metadata": {},
   "outputs": [],
   "source": [
    "#Let's separate the Normal data with everything else\n",
    "\n",
    "normal_data = data[data[\"label\"]==\"normal\"]\n",
    "other_data = data[data[\"label\"]!=\"normal\"]\n"
   ]
  },
  {
   "cell_type": "code",
   "execution_count": 56,
   "metadata": {},
   "outputs": [
    {
     "data": {
      "image/png": "[encoded data removed]",
      "text/plain": [
       "<Figure size 432x288 with 2 Axes>"
      ]
     },
     "metadata": {
      "needs_background": "light"
     },
     "output_type": "display_data"
    }
   ],
   "source": [
    "\n",
    "f, (ax1, ax2) = plt.subplots(2, 1, sharex=True)\n",
    "f.suptitle('Amount of Packets sent per class')\n",
    "bins = 50\n",
    "ax1.hist(other_data[\"outPacketsNo\"], bins = bins)\n",
    "ax1.set_title('DDoS Attack')\n",
    "ax2.hist(normal_data[\"outPacketsNo\"], bins = bins)\n",
    "ax2.set_title('Normal')\n",
    "plt.xlabel('Histogram')\n",
    "plt.ylabel('Number of sent Packets')\n",
    "plt.xlim((0, 3500))\n",
    "plt.yscale('log')\n",
    "plt.show();"
   ]
  },
  {
   "cell_type": "code",
   "execution_count": 58,
   "metadata": {},
   "outputs": [
    {
     "data": {
      "image/png": "[encoded data removed]",
      "text/plain": [
       "<Figure size 864x648 with 2 Axes>"
      ]
     },
     "metadata": {
      "needs_background": "light"
     },
     "output_type": "display_data"
    }
   ],
   "source": [
    "# I just want to check the correlation between each column, to understand what features are corelated\n",
    "import seaborn as sns\n",
    "correlation_matrix = data.corr()\n",
    "fig = plt.figure(figsize=(12,9))\n",
    "sns.heatmap(correlation_matrix,vmax=1.0,square = True)\n",
    "plt.show()"
   ]
  },
  {
   "cell_type": "code",
   "execution_count": 25,
   "metadata": {},
   "outputs": [
    {
     "data": {
      "text/plain": [
       "17    2035695\n",
       "6     1044141\n",
       "47         56\n",
       "Name: protocol, dtype: int64"
      ]
     },
     "execution_count": 25,
     "metadata": {},
     "output_type": "execute_result"
    }
   ],
   "source": [
    "data[\"protocol\"].value_counts()"
   ]
  },
  {
   "cell_type": "code",
   "execution_count": 26,
   "metadata": {},
   "outputs": [
    {
     "data": {
      "text/plain": [
       "count    3079892.0\n",
       "mean           0.0\n",
       "std            0.0\n",
       "min            0.0\n",
       "25%            0.0\n",
       "50%            0.0\n",
       "75%            0.0\n",
       "max            0.0\n",
       "Name: urgent, dtype: float64"
      ]
     },
     "execution_count": 26,
     "metadata": {},
     "output_type": "execute_result"
    }
   ],
   "source": [
    "data[\"urgent\"].describe()"
   ]
  },
  {
   "cell_type": "code",
   "execution_count": 29,
   "metadata": {},
   "outputs": [
    {
     "data": {
      "text/plain": [
       "count    3.08e+06\n",
       "mean     5.02e-01\n",
       "std      9.30e+00\n",
       "min      0.00e+00\n",
       "25%      0.00e+00\n",
       "50%      0.00e+00\n",
       "75%      1.00e+00\n",
       "max      2.55e+03\n",
       "Name: ack, dtype: float64"
      ]
     },
     "execution_count": 29,
     "metadata": {},
     "output_type": "execute_result"
    }
   ],
   "source": [
    "data[\"ack\"].describe()"
   ]
  },
  {
   "cell_type": "code",
   "execution_count": null,
   "metadata": {},
   "outputs": [],
   "source": []
  }
 ],
 "metadata": {
  "kernelspec": {
   "display_name": "Python 3",
   "language": "python",
   "name": "python3"
  },
  "language_info": {
   "codemirror_mode": {
    "name": "ipython",
    "version": 3
   },
   "file_extension": ".py",
   "mimetype": "text/x-python",
   "name": "python",
   "nbconvert_exporter": "python",
   "pygments_lexer": "ipython3",
   "version": "3.8.2"
  }
 },
 "nbformat": 4,
 "nbformat_minor": 4
}
