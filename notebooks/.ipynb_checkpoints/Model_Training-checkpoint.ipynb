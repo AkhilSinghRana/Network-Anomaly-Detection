{
 "cells": [
  {
   "cell_type": "code",
   "execution_count": 22,
   "metadata": {},
   "outputs": [],
   "source": [
    "import numpy as np\n",
    "import pandas as pd\n",
    "import sklearn\n",
    "import scipy\n",
    "import matplotlib.pyplot as plt\n",
    "import seaborn as sns\n",
    "\n",
    "from sklearn.preprocessing import LabelEncoder, StandardScaler\n",
    "from sklearn.metrics import classification_report,accuracy_score\n",
    "from sklearn.ensemble import IsolationForest\n",
    "from sklearn.neighbors import LocalOutlierFactor\n",
    "from sklearn.svm import OneClassSVM\n"
   ]
  },
  {
   "cell_type": "code",
   "execution_count": 2,
   "metadata": {},
   "outputs": [],
   "source": [
    "# Read the CSV data into the pandas dataframe\n",
    "file = '../data/data.csv'\n",
    "data = pd.read_csv(file)"
   ]
  },
  {
   "cell_type": "code",
   "execution_count": 3,
   "metadata": {},
   "outputs": [],
   "source": [
    "# Let's replace the label column values to 0 for normal and 1 for others!\n",
    "\n",
    "LABELS = data[\"label\"].unique() # Get Unique Values of label column\n",
    "LABELS = [label for label in LABELS if label != \"normal\"] #All labels other than Normal!\n",
    "\n",
    "data[\"label\"].replace(['normal'], 0, inplace=True)\n",
    "data[\"label\"].replace(LABELS, 1 , inplace=True)\n"
   ]
  },
  {
   "cell_type": "code",
   "execution_count": 4,
   "metadata": {},
   "outputs": [],
   "source": [
    "data = data.fillna(\"None\") # fill all the empty hosts with 0\n",
    "\n",
    "#Now let's encode all the columns which are not float or int e.g. sourceIP, MAC to make it possible for model to interpret\n",
    "columnsToEncode = list(data.select_dtypes(include=['category', 'object']))  \n",
    "            \n",
    "le = LabelEncoder() # use label encoder from sklearn\n",
    "\n",
    "for feature in columnsToEncode:\n",
    "    try:\n",
    "        data[feature] = le.fit_transform(data[feature])\n",
    "        #print(data[feature])\n",
    "    except:\n",
    "        print ('error' + feature)\n"
   ]
  },
  {
   "cell_type": "code",
   "execution_count": 5,
   "metadata": {},
   "outputs": [
    {
     "data": {
      "text/html": [
       "<div>\n",
       "<style scoped>\n",
       "    .dataframe tbody tr th:only-of-type {\n",
       "        vertical-align: middle;\n",
       "    }\n",
       "\n",
       "    .dataframe tbody tr th {\n",
       "        vertical-align: top;\n",
       "    }\n",
       "\n",
       "    .dataframe thead th {\n",
       "        text-align: right;\n",
       "    }\n",
       "</style>\n",
       "<table border=\"1\" class=\"dataframe\">\n",
       "  <thead>\n",
       "    <tr style=\"text-align: right;\">\n",
       "      <th></th>\n",
       "      <th>uid</th>\n",
       "      <th>sourceMac</th>\n",
       "      <th>sourceIp</th>\n",
       "      <th>destIp</th>\n",
       "      <th>destMac</th>\n",
       "      <th>sourcePort</th>\n",
       "      <th>destPort</th>\n",
       "      <th>host</th>\n",
       "      <th>kIn</th>\n",
       "      <th>kOut</th>\n",
       "      <th>...</th>\n",
       "      <th>outPacketsNo</th>\n",
       "      <th>protocol</th>\n",
       "      <th>urgent</th>\n",
       "      <th>ack</th>\n",
       "      <th>push</th>\n",
       "      <th>reset</th>\n",
       "      <th>syn</th>\n",
       "      <th>fin</th>\n",
       "      <th>timestamp</th>\n",
       "      <th>label</th>\n",
       "    </tr>\n",
       "  </thead>\n",
       "  <tbody>\n",
       "    <tr>\n",
       "      <th>0</th>\n",
       "      <td>0</td>\n",
       "      <td>0</td>\n",
       "      <td>2</td>\n",
       "      <td>15</td>\n",
       "      <td>5</td>\n",
       "      <td>19357</td>\n",
       "      <td>8000</td>\n",
       "      <td>3</td>\n",
       "      <td>0.0</td>\n",
       "      <td>1.015625</td>\n",
       "      <td>...</td>\n",
       "      <td>2</td>\n",
       "      <td>17</td>\n",
       "      <td>0</td>\n",
       "      <td>0</td>\n",
       "      <td>0</td>\n",
       "      <td>0</td>\n",
       "      <td>0</td>\n",
       "      <td>0</td>\n",
       "      <td>22374</td>\n",
       "      <td>1</td>\n",
       "    </tr>\n",
       "    <tr>\n",
       "      <th>1</th>\n",
       "      <td>0</td>\n",
       "      <td>0</td>\n",
       "      <td>2</td>\n",
       "      <td>15</td>\n",
       "      <td>5</td>\n",
       "      <td>1939</td>\n",
       "      <td>8000</td>\n",
       "      <td>3</td>\n",
       "      <td>0.0</td>\n",
       "      <td>1.015625</td>\n",
       "      <td>...</td>\n",
       "      <td>2</td>\n",
       "      <td>17</td>\n",
       "      <td>0</td>\n",
       "      <td>0</td>\n",
       "      <td>0</td>\n",
       "      <td>0</td>\n",
       "      <td>0</td>\n",
       "      <td>0</td>\n",
       "      <td>22374</td>\n",
       "      <td>1</td>\n",
       "    </tr>\n",
       "    <tr>\n",
       "      <th>2</th>\n",
       "      <td>0</td>\n",
       "      <td>0</td>\n",
       "      <td>2</td>\n",
       "      <td>15</td>\n",
       "      <td>5</td>\n",
       "      <td>19668</td>\n",
       "      <td>8000</td>\n",
       "      <td>3</td>\n",
       "      <td>0.0</td>\n",
       "      <td>0.507813</td>\n",
       "      <td>...</td>\n",
       "      <td>1</td>\n",
       "      <td>17</td>\n",
       "      <td>0</td>\n",
       "      <td>0</td>\n",
       "      <td>0</td>\n",
       "      <td>0</td>\n",
       "      <td>0</td>\n",
       "      <td>0</td>\n",
       "      <td>22374</td>\n",
       "      <td>1</td>\n",
       "    </tr>\n",
       "    <tr>\n",
       "      <th>3</th>\n",
       "      <td>0</td>\n",
       "      <td>0</td>\n",
       "      <td>2</td>\n",
       "      <td>15</td>\n",
       "      <td>5</td>\n",
       "      <td>19807</td>\n",
       "      <td>8000</td>\n",
       "      <td>3</td>\n",
       "      <td>0.0</td>\n",
       "      <td>0.507813</td>\n",
       "      <td>...</td>\n",
       "      <td>1</td>\n",
       "      <td>17</td>\n",
       "      <td>0</td>\n",
       "      <td>0</td>\n",
       "      <td>0</td>\n",
       "      <td>0</td>\n",
       "      <td>0</td>\n",
       "      <td>0</td>\n",
       "      <td>22374</td>\n",
       "      <td>1</td>\n",
       "    </tr>\n",
       "    <tr>\n",
       "      <th>4</th>\n",
       "      <td>0</td>\n",
       "      <td>0</td>\n",
       "      <td>2</td>\n",
       "      <td>15</td>\n",
       "      <td>5</td>\n",
       "      <td>19851</td>\n",
       "      <td>8000</td>\n",
       "      <td>3</td>\n",
       "      <td>0.0</td>\n",
       "      <td>0.507813</td>\n",
       "      <td>...</td>\n",
       "      <td>1</td>\n",
       "      <td>17</td>\n",
       "      <td>0</td>\n",
       "      <td>0</td>\n",
       "      <td>0</td>\n",
       "      <td>0</td>\n",
       "      <td>0</td>\n",
       "      <td>0</td>\n",
       "      <td>22374</td>\n",
       "      <td>1</td>\n",
       "    </tr>\n",
       "  </tbody>\n",
       "</table>\n",
       "<p>5 rows × 21 columns</p>\n",
       "</div>"
      ],
      "text/plain": [
       "   uid  sourceMac  sourceIp  destIp  destMac  sourcePort  destPort  host  kIn  \\\n",
       "0    0          0         2      15        5       19357      8000     3  0.0   \n",
       "1    0          0         2      15        5        1939      8000     3  0.0   \n",
       "2    0          0         2      15        5       19668      8000     3  0.0   \n",
       "3    0          0         2      15        5       19807      8000     3  0.0   \n",
       "4    0          0         2      15        5       19851      8000     3  0.0   \n",
       "\n",
       "       kOut  ...  outPacketsNo  protocol  urgent  ack  push  reset  syn  fin  \\\n",
       "0  1.015625  ...             2        17       0    0     0      0    0    0   \n",
       "1  1.015625  ...             2        17       0    0     0      0    0    0   \n",
       "2  0.507813  ...             1        17       0    0     0      0    0    0   \n",
       "3  0.507813  ...             1        17       0    0     0      0    0    0   \n",
       "4  0.507813  ...             1        17       0    0     0      0    0    0   \n",
       "\n",
       "   timestamp  label  \n",
       "0      22374      1  \n",
       "1      22374      1  \n",
       "2      22374      1  \n",
       "3      22374      1  \n",
       "4      22374      1  \n",
       "\n",
       "[5 rows x 21 columns]"
      ]
     },
     "execution_count": 5,
     "metadata": {},
     "output_type": "execute_result"
    }
   ],
   "source": [
    "data.head()"
   ]
  },
  {
   "cell_type": "code",
   "execution_count": 6,
   "metadata": {},
   "outputs": [
    {
     "data": {
      "text/plain": [
       "1    2988506\n",
       "0      91386\n",
       "Name: label, dtype: int64"
      ]
     },
     "execution_count": 6,
     "metadata": {},
     "output_type": "execute_result"
    }
   ],
   "source": [
    "data[\"label\"].value_counts()"
   ]
  },
  {
   "cell_type": "code",
   "execution_count": 7,
   "metadata": {},
   "outputs": [],
   "source": [
    "Train, Val = sklearn.model_selection.train_test_split(data, test_size=0.9, random_state=1, shuffle=True)"
   ]
  },
  {
   "cell_type": "code",
   "execution_count": 8,
   "metadata": {},
   "outputs": [
    {
     "data": {
      "text/plain": [
       "1    298792\n",
       "0      9197\n",
       "Name: label, dtype: int64"
      ]
     },
     "execution_count": 8,
     "metadata": {},
     "output_type": "execute_result"
    }
   ],
   "source": [
    "Train[\"label\"].value_counts()"
   ]
  },
  {
   "cell_type": "code",
   "execution_count": 9,
   "metadata": {},
   "outputs": [
    {
     "data": {
      "text/plain": [
       "1    2689714\n",
       "0      82189\n",
       "Name: label, dtype: int64"
      ]
     },
     "execution_count": 9,
     "metadata": {},
     "output_type": "execute_result"
    }
   ],
   "source": [
    "Val[\"label\"].value_counts()"
   ]
  },
  {
   "cell_type": "code",
   "execution_count": 10,
   "metadata": {},
   "outputs": [
    {
     "name": "stdout",
     "output_type": "stream",
     "text": [
      "33.0\n"
     ]
    }
   ],
   "source": [
    "Attack = Train[Train['label']==1]\n",
    "Normal = Train[Train['label']==0]\n",
    "outlier_fraction = np.ceil(len(Attack)/float(len(Normal)))\n",
    "\n",
    "#Let's print how many more outliers are there in the dataset compared to normal data\n",
    "print(outlier_fraction)"
   ]
  },
  {
   "cell_type": "code",
   "execution_count": 35,
   "metadata": {},
   "outputs": [
    {
     "name": "stdout",
     "output_type": "stream",
     "text": [
      "(307989, 20)\n",
      "(307989,)\n"
     ]
    }
   ],
   "source": [
    "#Let's now split the features and the target ground truth\n",
    "features = [feature for feature in Train.columns.tolist() if feature not in [\"label\"]]\n",
    "target = \"label\"\n",
    "\n",
    "# Define a random state \n",
    "state = np.random.RandomState(42)\n",
    "X_train = Train[features]\n",
    "Y_train = Train[target]\n",
    "\n",
    "X_val = Val[features]\n",
    "Y_val = Val[target]\n",
    "\n",
    "X_outliers = state.uniform(low=0, high=1, size=(X_train.shape[0], X_train.shape[1]))\n",
    "# Print the shapes of X & Y\n",
    "print(X_train.shape)\n",
    "print(Y_train.shape)"
   ]
  },
  {
   "cell_type": "code",
   "execution_count": 13,
   "metadata": {},
   "outputs": [],
   "source": [
    "#Let's initalize some classifiers\n",
    "classifiers = {\n",
    "    \"Isolation Forest\":IsolationForest(n_estimators=100, max_samples=len(X_train), \n",
    "                                       contamination=outlier_fraction,random_state=state, verbose=1),\n",
    "    \"Local Outlier Factor\":LocalOutlierFactor(n_neighbors=20, algorithm='auto', \n",
    "                                              leaf_size=30, metric='minkowski',\n",
    "                                              p=2, metric_params=None, contamination=0.03),\n",
    "    \"Support Vector Machine\":OneClassSVM(kernel='rbf', degree=3, gamma=0.1,nu=0.05, \n",
    "                                         max_iter=-1 )\n",
    "   \n",
    "}"
   ]
  },
  {
   "cell_type": "code",
   "execution_count": null,
   "metadata": {},
   "outputs": [
    {
     "name": "stdout",
     "output_type": "stream",
     "text": [
      "Local Outlier Factor: 291532\n",
      "Accuracy Score :\n",
      "0.053433726529194224\n",
      "Classification Report :\n",
      "              precision    recall  f1-score   support\n",
      "\n",
      "           0       0.03      0.89      0.05      9197\n",
      "           1       0.89      0.03      0.05    298792\n",
      "\n",
      "    accuracy                           0.05    307989\n",
      "   macro avg       0.46      0.46      0.05    307989\n",
      "weighted avg       0.87      0.05      0.05    307989\n",
      "\n"
     ]
    }
   ],
   "source": [
    "n_outliers = len(Attack)\n",
    "for i, (clf_name,clf) in enumerate(classifiers.items()):\n",
    "    #Fit the data and tag outliers\n",
    "    if clf_name == \"Local Outlier Factor\":\n",
    "        continue\n",
    "        y_pred = clf.fit_predict(X_train)\n",
    "        scores_prediction = clf.negative_outlier_factor_\n",
    "    elif clf_name == \"Support Vector Machine\":\n",
    "        clf.fit(X_train)\n",
    "        y_pred = clf.predict(X_train)\n",
    "    else:    \n",
    "        continue\n",
    "        clf.fit(X_train)\n",
    "        scores_prediction = clf.decision_function(X_train)\n",
    "        y_pred = clf.predict(X_train)\n",
    "        \n",
    "    #Reshape the prediction values to 0 for Valid transactions , 1 for Fraud transactions\n",
    "    y_pred[y_pred == 1] = 0\n",
    "    y_pred[y_pred == -1] = 1\n",
    "    n_errors = (y_pred != Y_train).sum()\n",
    "    # Run Classification Metrics\n",
    "    print(\"{}: {}\".format(clf_name,n_errors))\n",
    "    print(\"Accuracy Score :\")\n",
    "    print(accuracy_score(Y_train,y_pred))\n",
    "    print(\"Classification Report :\")\n",
    "    print(classification_report(Y_train,y_pred))\n"
   ]
  },
  {
   "cell_type": "code",
   "execution_count": null,
   "metadata": {},
   "outputs": [],
   "source": [
    "n_outliers = len(Attack)\n",
    "for i, (clf_name,clf) in enumerate(classifiers.items()):\n",
    "    #Fit the data and tag outliers\n",
    "    if clf_name == \"Local Outlier Factor\":\n",
    "        continue\n",
    "        y_pred = clf.fit_predict(X_train)\n",
    "        scores_prediction = clf.negative_outlier_factor_\n",
    "    elif clf_name == \"Support Vector Machine\":\n",
    "        clf.fit(X_train)\n",
    "        y_pred = clf.predict(X_train)\n",
    "    else:    \n",
    "        continue\n",
    "        clf.fit(X_train)\n",
    "        scores_prediction = clf.decision_function(X_train)\n",
    "        y_pred = clf.predict(X_train)\n",
    "        \n",
    "    #Reshape the prediction values to 0 for Valid transactions , 1 for Fraud transactions\n",
    "    y_pred[y_pred == 1] = 0\n",
    "    y_pred[y_pred == -1] = 1\n",
    "    n_errors = (y_pred != Y_train).sum()\n",
    "    # Run Classification Metrics\n",
    "    print(\"{}: {}\".format(clf_name,n_errors))\n",
    "    print(\"Accuracy Score :\")\n",
    "    print(accuracy_score(Y_train,y_pred))\n",
    "    print(\"Classification Report :\")\n",
    "    print(classification_report(Y_train,y_pred))\n"
   ]
  },
  {
   "cell_type": "code",
   "execution_count": 12,
   "metadata": {},
   "outputs": [],
   "source": [
    "from keras.layers import Input, Dense\n",
    "from keras.models import Model, Sequential\n",
    "from keras import regularizers\n",
    "from sklearn.model_selection import train_test_split \n",
    "from sklearn.linear_model import LogisticRegression\n",
    "from sklearn.metrics import classification_report, accuracy_score\n",
    "from sklearn.manifold import TSNE\n",
    "from sklearn import preprocessing \n",
    "import matplotlib.pyplot as plt\n",
    "import pandas as pd \n",
    "import numpy as np\n",
    "import seaborn as sns"
   ]
  },
  {
   "cell_type": "code",
   "execution_count": 25,
   "metadata": {},
   "outputs": [
    {
     "data": {
      "image/png": "[encoded data removed]",
      "text/plain": [
       "<Figure size 432x288 with 1 Axes>"
      ]
     },
     "metadata": {
      "needs_background": "light"
     },
     "output_type": "display_data"
    }
   ],
   "source": [
    "def tsne_plot(x1, y1, name=\"graph.png\"):\n",
    "    \n",
    "    #Scale features to improve the training ability of TSNE.\n",
    "    standard_scaler = StandardScaler()\n",
    "    df2_std = standard_scaler.fit_transform(x1)\n",
    "\n",
    "    tsne = TSNE(n_components=2, random_state=0)\n",
    "    x_test_2d = tsne.fit_transform(df2_std)\n",
    "    \n",
    "    #Build the scatter plot with the two types of transactions.\n",
    "    color_map = {0:'green', 1:'red'}\n",
    "    plt.figure()\n",
    "    for idx, cl in enumerate(np.unique(y)):\n",
    "        plt.scatter(x = x_test_2d[y1==cl,0], \n",
    "                    y = x_test_2d[y1==cl,1], \n",
    "                    c = color_map[idx], \n",
    "                    label = cl)\n",
    "    plt.xlabel('X in t-SNE')\n",
    "    plt.ylabel('Y in t-SNE')\n",
    "    plt.legend(loc='upper left')\n",
    "    plt.title('t-SNE visualization of test data')\n",
    "    plt.show()\n",
    "    \n",
    "tsne_plot(X_train[:8000], Y_train[:8000])\n"
   ]
  },
  {
   "cell_type": "code",
   "execution_count": 27,
   "metadata": {},
   "outputs": [],
   "source": [
    "#I think training this kind of dataset with autoencoders makes more sense so let's try that\n",
    "\n",
    "## input layer \n",
    "input_layer = Input(shape=(X_train.shape[1],))\n",
    "\n",
    "## encoding part\n",
    "encoded = Dense(100, activation='tanh', activity_regularizer=regularizers.l1(10e-5))(input_layer)\n",
    "encoded = Dense(50, activation='relu')(encoded)\n",
    "\n",
    "## decoding part\n",
    "decoded = Dense(50, activation='tanh')(encoded)\n",
    "decoded = Dense(100, activation='tanh')(decoded)\n",
    "\n",
    "## output layer\n",
    "output_layer = Dense(X_train.shape[1], activation='relu')(decoded)"
   ]
  },
  {
   "cell_type": "code",
   "execution_count": 28,
   "metadata": {},
   "outputs": [],
   "source": [
    "#Compile the mdoel\n",
    "autoencoder = Model(input_layer, output_layer)\n",
    "autoencoder.compile(optimizer=\"adadelta\", loss=\"mse\")"
   ]
  },
  {
   "cell_type": "code",
   "execution_count": 29,
   "metadata": {},
   "outputs": [],
   "source": [
    "#let's do bit of data transformation for scaling\n",
    "\n",
    "x = X_train\n",
    "y = Y_train\n",
    "\n",
    "x_scale = preprocessing.MinMaxScaler().fit_transform(x.values)\n",
    "x_norm, x_fraud = x_scale[y == 0], x_scale[y == 1]"
   ]
  },
  {
   "cell_type": "code",
   "execution_count": 30,
   "metadata": {},
   "outputs": [
    {
     "name": "stdout",
     "output_type": "stream",
     "text": [
      "Epoch 1/50\n",
      "25/25 [==============================] - 0s 8ms/step - loss: 0.1274 - val_loss: 0.1273\n",
      "Epoch 2/50\n",
      "25/25 [==============================] - 0s 4ms/step - loss: 0.1270 - val_loss: 0.1269\n",
      "Epoch 3/50\n",
      "25/25 [==============================] - 0s 5ms/step - loss: 0.1266 - val_loss: 0.1264\n",
      "Epoch 4/50\n",
      "25/25 [==============================] - 0s 5ms/step - loss: 0.1261 - val_loss: 0.1259\n",
      "Epoch 5/50\n",
      "25/25 [==============================] - 0s 5ms/step - loss: 0.1255 - val_loss: 0.1253\n",
      "Epoch 6/50\n",
      "25/25 [==============================] - 0s 6ms/step - loss: 0.1249 - val_loss: 0.1247\n",
      "Epoch 7/50\n",
      "25/25 [==============================] - 0s 5ms/step - loss: 0.1243 - val_loss: 0.1240\n",
      "Epoch 8/50\n",
      "25/25 [==============================] - 0s 6ms/step - loss: 0.1236 - val_loss: 0.1234\n",
      "Epoch 9/50\n",
      "25/25 [==============================] - 0s 5ms/step - loss: 0.1230 - val_loss: 0.1228\n",
      "Epoch 10/50\n",
      "25/25 [==============================] - 0s 11ms/step - loss: 0.1223 - val_loss: 0.1221\n",
      "Epoch 11/50\n",
      "25/25 [==============================] - 0s 11ms/step - loss: 0.1216 - val_loss: 0.1214\n",
      "Epoch 12/50\n",
      "25/25 [==============================] - 0s 7ms/step - loss: 0.1209 - val_loss: 0.1207\n",
      "Epoch 13/50\n",
      "25/25 [==============================] - 0s 7ms/step - loss: 0.1202 - val_loss: 0.1199\n",
      "Epoch 14/50\n",
      "25/25 [==============================] - 0s 7ms/step - loss: 0.1195 - val_loss: 0.1192\n",
      "Epoch 15/50\n",
      "25/25 [==============================] - 0s 6ms/step - loss: 0.1188 - val_loss: 0.1185\n",
      "Epoch 16/50\n",
      "25/25 [==============================] - 0s 8ms/step - loss: 0.1180 - val_loss: 0.1178\n",
      "Epoch 17/50\n",
      "25/25 [==============================] - 0s 10ms/step - loss: 0.1173 - val_loss: 0.1171\n",
      "Epoch 18/50\n",
      "25/25 [==============================] - 0s 8ms/step - loss: 0.1166 - val_loss: 0.1164\n",
      "Epoch 19/50\n",
      "25/25 [==============================] - 0s 7ms/step - loss: 0.1159 - val_loss: 0.1157\n",
      "Epoch 20/50\n",
      "25/25 [==============================] - 0s 7ms/step - loss: 0.1152 - val_loss: 0.1150\n",
      "Epoch 21/50\n",
      "25/25 [==============================] - 0s 6ms/step - loss: 0.1144 - val_loss: 0.1142\n",
      "Epoch 22/50\n",
      "25/25 [==============================] - 0s 8ms/step - loss: 0.1137 - val_loss: 0.1135\n",
      "Epoch 23/50\n",
      "25/25 [==============================] - 0s 10ms/step - loss: 0.1130 - val_loss: 0.1128\n",
      "Epoch 24/50\n",
      "25/25 [==============================] - 0s 8ms/step - loss: 0.1123 - val_loss: 0.1122\n",
      "Epoch 25/50\n",
      "25/25 [==============================] - 0s 7ms/step - loss: 0.1116 - val_loss: 0.1115\n",
      "Epoch 26/50\n",
      "25/25 [==============================] - 0s 7ms/step - loss: 0.1109 - val_loss: 0.1108\n",
      "Epoch 27/50\n",
      "25/25 [==============================] - 0s 7ms/step - loss: 0.1102 - val_loss: 0.1101\n",
      "Epoch 28/50\n",
      "25/25 [==============================] - 0s 6ms/step - loss: 0.1096 - val_loss: 0.1094\n",
      "Epoch 29/50\n",
      "25/25 [==============================] - 0s 5ms/step - loss: 0.1089 - val_loss: 0.1087\n",
      "Epoch 30/50\n",
      "25/25 [==============================] - 0s 7ms/step - loss: 0.1082 - val_loss: 0.1081\n",
      "Epoch 31/50\n",
      "25/25 [==============================] - 0s 7ms/step - loss: 0.1075 - val_loss: 0.1074\n",
      "Epoch 32/50\n",
      "25/25 [==============================] - 0s 8ms/step - loss: 0.1069 - val_loss: 0.1068\n",
      "Epoch 33/50\n",
      "25/25 [==============================] - 0s 9ms/step - loss: 0.1062 - val_loss: 0.1061\n",
      "Epoch 34/50\n",
      "25/25 [==============================] - 0s 7ms/step - loss: 0.1056 - val_loss: 0.1055\n",
      "Epoch 35/50\n",
      "25/25 [==============================] - 0s 7ms/step - loss: 0.1049 - val_loss: 0.1048\n",
      "Epoch 36/50\n",
      "25/25 [==============================] - 0s 9ms/step - loss: 0.1043 - val_loss: 0.1042\n",
      "Epoch 37/50\n",
      "25/25 [==============================] - 0s 10ms/step - loss: 0.1036 - val_loss: 0.1036\n",
      "Epoch 38/50\n",
      "25/25 [==============================] - 0s 3ms/step - loss: 0.1030 - val_loss: 0.1029\n",
      "Epoch 39/50\n",
      "25/25 [==============================] - 0s 3ms/step - loss: 0.1024 - val_loss: 0.1023\n",
      "Epoch 40/50\n",
      "25/25 [==============================] - 0s 3ms/step - loss: 0.1017 - val_loss: 0.1017\n",
      "Epoch 41/50\n",
      "25/25 [==============================] - 0s 3ms/step - loss: 0.1011 - val_loss: 0.1011\n",
      "Epoch 42/50\n",
      "25/25 [==============================] - 0s 3ms/step - loss: 0.1005 - val_loss: 0.1004\n",
      "Epoch 43/50\n",
      "25/25 [==============================] - 0s 7ms/step - loss: 0.0999 - val_loss: 0.0998\n",
      "Epoch 44/50\n",
      "25/25 [==============================] - 0s 8ms/step - loss: 0.0992 - val_loss: 0.0992\n",
      "Epoch 45/50\n",
      "25/25 [==============================] - 0s 10ms/step - loss: 0.0986 - val_loss: 0.0986\n",
      "Epoch 46/50\n",
      "25/25 [==============================] - 0s 8ms/step - loss: 0.0980 - val_loss: 0.0980\n",
      "Epoch 47/50\n",
      "25/25 [==============================] - 0s 8ms/step - loss: 0.0974 - val_loss: 0.0974\n",
      "Epoch 48/50\n",
      "25/25 [==============================] - 0s 10ms/step - loss: 0.0968 - val_loss: 0.0968\n",
      "Epoch 49/50\n",
      "25/25 [==============================] - 0s 8ms/step - loss: 0.0962 - val_loss: 0.0962\n",
      "Epoch 50/50\n",
      "25/25 [==============================] - 0s 6ms/step - loss: 0.0956 - val_loss: 0.0956\n"
     ]
    }
   ],
   "source": [
    "autoencoder.fit(x_norm[0:8000], x_norm[0:8000], \n",
    "                batch_size = 256, epochs = 50, \n",
    "                shuffle = True, validation_split = 0.20);"
   ]
  },
  {
   "cell_type": "code",
   "execution_count": 31,
   "metadata": {},
   "outputs": [],
   "source": [
    "#Let's try to get latent learnt representation by autoencoder\n",
    "hidden_representation = Sequential()\n",
    "hidden_representation.add(autoencoder.layers[0])\n",
    "hidden_representation.add(autoencoder.layers[1])\n",
    "hidden_representation.add(autoencoder.layers[2])"
   ]
  },
  {
   "cell_type": "code",
   "execution_count": 32,
   "metadata": {},
   "outputs": [],
   "source": [
    "norm_hid_rep = hidden_representation.predict(x_norm[9000:12000])\n",
    "fraud_hid_rep = hidden_representation.predict(x_fraud[9000:12000])\n"
   ]
  },
  {
   "cell_type": "code",
   "execution_count": 33,
   "metadata": {},
   "outputs": [
    {
     "data": {
      "image/png": "[encoded data removed]",
      "text/plain": [
       "<Figure size 432x288 with 1 Axes>"
      ]
     },
     "metadata": {
      "needs_background": "light"
     },
     "output_type": "display_data"
    }
   ],
   "source": [
    "#Let's try to visualize TSNE again for the learnt representation\n",
    "rep_x = np.append(norm_hid_rep, fraud_hid_rep, axis = 0)\n",
    "y_n = np.zeros(norm_hid_rep.shape[0])\n",
    "y_f = np.ones(fraud_hid_rep.shape[0])\n",
    "rep_y = np.append(y_n, y_f)\n",
    "\n",
    "tsne_plot(rep_x, rep_y)"
   ]
  },
  {
   "cell_type": "code",
   "execution_count": 34,
   "metadata": {},
   "outputs": [
    {
     "name": "stdout",
     "output_type": "stream",
     "text": [
      "\n",
      "Classification Report: \n",
      "              precision    recall  f1-score   support\n",
      "\n",
      "         0.0       1.00      0.99      0.99       783\n",
      "         1.0       0.99      1.00      0.99       717\n",
      "\n",
      "    accuracy                           0.99      1500\n",
      "   macro avg       0.99      0.99      0.99      1500\n",
      "weighted avg       0.99      0.99      0.99      1500\n",
      "\n",
      "\n",
      "Accuracy Score:  0.9946666666666667\n"
     ]
    }
   ],
   "source": [
    "#Finally we can train a classifier on learnt representations\n",
    "\n",
    "train_x, val_x, train_y, val_y = train_test_split(rep_x, rep_y, test_size=0.25)\n",
    "clf = LogisticRegression(solver=\"lbfgs\").fit(train_x, train_y)\n",
    "pred_y = clf.predict(val_x)\n",
    "\n",
    "print (\"\")\n",
    "print (\"Classification Report: \")\n",
    "print (classification_report(val_y, pred_y))\n",
    "\n",
    "print (\"\")\n",
    "print (\"Accuracy Score: \", accuracy_score(val_y, pred_y))"
   ]
  },
  {
   "cell_type": "code",
   "execution_count": 37,
   "metadata": {},
   "outputs": [
    {
     "name": "stderr",
     "output_type": "stream",
     "text": [
      "/home/coding/MyProjects/Avira-AnomalyDetection/env/lib/python3.6/site-packages/sklearn/linear_model/_logistic.py:764: ConvergenceWarning: lbfgs failed to converge (status=1):\n",
      "STOP: TOTAL NO. of ITERATIONS REACHED LIMIT.\n",
      "\n",
      "Increase the number of iterations (max_iter) or scale the data as shown in:\n",
      "    https://scikit-learn.org/stable/modules/preprocessing.html\n",
      "Please also refer to the documentation for alternative solver options:\n",
      "    https://scikit-learn.org/stable/modules/linear_model.html#logistic-regression\n",
      "  extra_warning_msg=_LOGISTIC_SOLVER_CONVERGENCE_MSG)\n"
     ]
    },
    {
     "name": "stdout",
     "output_type": "stream",
     "text": [
      "\n",
      "Classification Report: \n",
      "              precision    recall  f1-score   support\n",
      "\n",
      "           0       1.00      0.99      0.99     82189\n",
      "           1       1.00      1.00      1.00   2689714\n",
      "\n",
      "    accuracy                           1.00   2771903\n",
      "   macro avg       1.00      0.99      1.00   2771903\n",
      "weighted avg       1.00      1.00      1.00   2771903\n",
      "\n",
      "\n",
      "Accuracy Score:  0.9996976806186941\n"
     ]
    }
   ],
   "source": [
    "#Finally we can train a classifier on learnt representations\n",
    "\n",
    "train_x, val_x, train_y, val_y = train_test_split(rep_x, rep_y, test_size=0.25)\n",
    "clf = LogisticRegression(solver=\"lbfgs\").fit(X_train, Y_train)\n",
    "pred_y = clf.predict(X_val)\n",
    "\n",
    "print (\"\")\n",
    "print (\"Classification Report: \")\n",
    "print (classification_report(Y_val, pred_y))\n",
    "\n",
    "print (\"\")\n",
    "print (\"Accuracy Score: \", accuracy_score(Y_val, pred_y))"
   ]
  },
  {
   "cell_type": "code",
   "execution_count": null,
   "metadata": {},
   "outputs": [],
   "source": []
  }
 ],
 "metadata": {
  "kernelspec": {
   "display_name": "Python 3",
   "language": "python",
   "name": "python3"
  },
  "language_info": {
   "codemirror_mode": {
    "name": "ipython",
    "version": 3
   },
   "file_extension": ".py",
   "mimetype": "text/x-python",
   "name": "python",
   "nbconvert_exporter": "python",
   "pygments_lexer": "ipython3",
   "version": "3.6.11"
  }
 },
 "nbformat": 4,
 "nbformat_minor": 4
}
